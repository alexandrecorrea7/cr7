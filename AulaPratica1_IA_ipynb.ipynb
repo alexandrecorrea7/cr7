{
  "nbformat": 4,
  "nbformat_minor": 0,
  "metadata": {
    "colab": {
      "provenance": [],
      "authorship_tag": "ABX9TyO1/tcdGBgQf5RLRpxFdlf4",
      "include_colab_link": true
    },
    "kernelspec": {
      "name": "python3",
      "display_name": "Python 3"
    },
    "language_info": {
      "name": "python"
    }
  },
  "cells": [
    {
      "cell_type": "markdown",
      "metadata": {
        "id": "view-in-github",
        "colab_type": "text"
      },
      "source": [
        "<a href=\"https://colab.research.google.com/github/alexandrecorrea7/cr7/blob/main/AulaPratica1_IA_ipynb.ipynb\" target=\"_parent\"><img src=\"https://colab.research.google.com/assets/colab-badge.svg\" alt=\"Open In Colab\"/></a>"
      ]
    },
    {
      "cell_type": "markdown",
      "source": [
        "Importando as bibliotecas que vou usar"
      ],
      "metadata": {
        "id": "iOUg5vBt2NE_"
      }
    },
    {
      "cell_type": "code",
      "source": [
        "#Importando as bibliotecas que vou usar\n",
        "\n",
        "import tensorflow as tf\n",
        "from tersonflow.keras import layers\n",
        "\n",
        "#função para criar um gerador\n",
        "def build_generator(latent_dim, output_shape):\n",
        "model = tf.keras.Sequential()\n",
        "model.add(layers.Dense(256, Imput_dim=latent_dim,activation='relu'))\n",
        "model.add(layers.BatchNormalization())\n",
        "model.add(layers.Dense(512, activation='relu'))\n",
        "model.add(layers.BatchNormalization())\n",
        "model.add(layers.Dense(1024, activation='relu'))\n",
        "model.add(layers.BatchNormalization())\n",
        "model.add(layers.Dense(output_shape, activation='tanh'))\n",
        "return model\n",
        "\n",
        "\n",
        "#função para criar o discriminador\n",
        "def build discriminator(input_shape): model tf.keras.Sequential()\n",
        "model.app(layers. Dense (1024, input_shape=(input_shape,), activation-'relu'))\n",
        "model.add(layers.Dropout(0.3))\n",
        "model.add(layers.Dense (512, activation='relu'))\n",
        "model.add(layers.Dropout(0.3))\n",
        "model.add(layers.Dense (256, activation='relu'))\n",
        "model.add(layers.Dropout(0.3))\n",
        "model.add(layers.Dense (1, activation= 'sigmoid'))\n",
        "return model\n",
        "\n",
        "#fução modelo gan\n",
        "\n",
        "def build gan(generator, discriminator):\n",
        "discriminator_trainable = False\n",
        "model = tf.keras.Sequential()\n",
        "model.add(generator)\n",
        "model.add(discriminator)\n",
        "return model\n",
        "\n",
        "#dimenções\n",
        "latent din= 100\n",
        "output_shape= 784\n",
        "\n",
        "#criando as instâncias\n",
        "generator = build_generator(latent_din, output_shape)\n",
        "discriminator = build_discriminator(output_shape)\n",
        "gan = build_gan (genarator, discriminator)\n",
        "\n",
        "#compilações\n",
        "generator.compile(loss='binary_crossentropy, optimizer='adan')\n",
        "discriminator.compile(loss='binary_crossentropy', optimizer='adan', metrics=['accuracy'])\n",
        "gan.compile(loss='binary_crossentropy', optimizer='adam')\n"
      ],
      "metadata": {
        "colab": {
          "base_uri": "https://localhost:8080/",
          "height": 106
        },
        "id": "weCbzZGt2WMI",
        "outputId": "1bc2d18a-4488-4d22-a0cd-1b39ee87c1a9"
      },
      "execution_count": null,
      "outputs": [
        {
          "output_type": "error",
          "ename": "SyntaxError",
          "evalue": "incomplete input (<ipython-input-2-19f3a6fcbc0c>, line 7)",
          "traceback": [
            "\u001b[0;36m  File \u001b[0;32m\"<ipython-input-2-19f3a6fcbc0c>\"\u001b[0;36m, line \u001b[0;32m7\u001b[0m\n\u001b[0;31m    def build_generator (latent_dim, output_shape):\u001b[0m\n\u001b[0m                                                   ^\u001b[0m\n\u001b[0;31mSyntaxError\u001b[0m\u001b[0;31m:\u001b[0m incomplete input\n"
          ]
        }
      ]
    }
  ]
}